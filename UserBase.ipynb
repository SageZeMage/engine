{
 "metadata": {
  "language_info": {
   "codemirror_mode": {
    "name": "ipython",
    "version": 3
   },
   "file_extension": ".py",
   "mimetype": "text/x-python",
   "name": "python",
   "nbconvert_exporter": "python",
   "pygments_lexer": "ipython3",
   "version": "3.9.1"
  },
  "orig_nbformat": 2,
  "kernelspec": {
   "name": "pythonjvsc74a57bd0e5b2206ab4abfde8cef821173b9713847e19ec8ff445c535e7908289aa6e6f3d",
   "display_name": "Python 3.9.1  ('env': venv)"
  },
  "metadata": {
   "interpreter": {
    "hash": "e5b2206ab4abfde8cef821173b9713847e19ec8ff445c535e7908289aa6e6f3d"
   }
  }
 },
 "nbformat": 4,
 "nbformat_minor": 2,
 "cells": [
  {
   "cell_type": "code",
   "execution_count": 2,
   "metadata": {},
   "outputs": [
    {
     "output_type": "stream",
     "name": "stdout",
     "text": [
      "[10]\n"
     ]
    }
   ],
   "source": [
    "import pandas as pd\n",
    "\n",
    "url = 'https://drive.google.com/file/d/1_skLvOKWQtq4c3x2aZtz1HlJeIxtQeon/view'\n",
    "path = 'https://drive.google.com/uc?export=download&id=' + url.split('/')[-2]\n",
    "ds = pd.read_csv(path)\n",
    "\n",
    "#create an empty list\n",
    "games_list = []\n",
    "appid_list = []\n",
    "\n",
    "#throw errors when the user input does not satisfy the conditions\n",
    "while True:\n",
    "    try:\n",
    "        n = int(input(\"Please enter the number of games you want to add: \"))\n",
    "        if n < 1 or n > 3:\n",
    "            raise ValueError\n",
    "        break\n",
    "    except ValueError:\n",
    "        print(\"No valid integer! Please try again in the range 1-3 ...\")\n",
    "\n",
    "#set the length of the game list equal to the user input\n",
    "games_list = [] * n\n",
    "\n",
    "#for loop to store the game from user input in game list\n",
    "for i in range(n):\n",
    "    game = input(\"Enter the name of the game you want to add: \")\n",
    "    games_list.append(game)\n",
    "    \n",
    "result = True\n",
    "\n",
    "for i in range(len(games_list)):\n",
    "    for j in range(len(ds.name)):\n",
    "        if games_list[i] != ds.name[j]:\n",
    "            result = False\n",
    "            j+=1\n",
    "            if j >= len(ds.name):\n",
    "                j = 0\n",
    "        if games_list[i] == ds.name[j]:\n",
    "            result = True\n",
    "            appid_list.append(ds.appid[j])\n",
    "            break\n",
    "    i+=1\n",
    "print(appid_list)\n"
   ]
  }
 ]
}